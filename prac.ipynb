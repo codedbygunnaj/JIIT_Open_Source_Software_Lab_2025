{
 "cells": [
  {
   "cell_type": "code",
   "execution_count": null,
   "id": "56c404e2",
   "metadata": {},
   "outputs": [
    {
     "name": "stdout",
     "output_type": "stream",
     "text": [
      "[2, 4, 6, 3, 1]\n",
      "[1, 3, 6, 4, 2]\n"
     ]
    }
   ],
   "source": [
    "#q1:\n",
    "n=int(input(\"Number of element present in linkedList:\"))\n",
    "ls=[]\n",
    "for i in range(n):  \n",
    "    a=int(input(\"Element: \"))\n",
    "    ls.append(a)\n",
    "print(ls)\n",
    "\n",
    "#reversing linkedList\n",
    "ls=ls[::-1]\n",
    "print(ls)"
   ]
  },
  {
   "cell_type": "code",
   "execution_count": null,
   "id": "8f60f746",
   "metadata": {},
   "outputs": [
    {
     "name": "stdout",
     "output_type": "stream",
     "text": [
      "mth from starting is: 6 and mth from end is: 6\n"
     ]
    }
   ],
   "source": [
    "#q2:\n",
    "ls=[2,4,6,3,1]\n",
    "m=3\n",
    "# mth-> 3\n",
    "print(f\"mth from starting is: {ls[m-1]} and mth from end is: {ls[-m]}\")"
   ]
  },
  {
   "cell_type": "code",
   "execution_count": null,
   "id": "3b01f020",
   "metadata": {},
   "outputs": [
    {
     "name": "stdout",
     "output_type": "stream",
     "text": [
      "AwesomeAwesomeAwesome\n"
     ]
    }
   ],
   "source": [
    "#q3:\n",
    "stri=\"RamuKakaisAwesome\"\n",
    "n=7\n",
    "lastVal=stri[-n:]\n",
    "\n",
    "#repeatedword m times:\n",
    "m=3\n",
    "rep=lastVal*m\n",
    "print(rep)"
   ]
  },
  {
   "cell_type": "code",
   "execution_count": 6,
   "id": "b0b4eead",
   "metadata": {},
   "outputs": [
    {
     "name": "stdout",
     "output_type": "stream",
     "text": [
      "green-blue-purple-red-white-darkBrown\n",
      "['green', 'blue', 'purple', 'red', 'white', 'darkBrown']\n",
      "['blue', 'darkBrown', 'green', 'purple', 'red', 'white']\n",
      "blue-darkBrown-green-purple-red-white\n"
     ]
    }
   ],
   "source": [
    "#q4:\n",
    "ip=\"green-blue-purple-red-white-darkBrown\"\n",
    "print(ip)\n",
    "words=ip.split(\"-\")\n",
    "print(words)\n",
    "\n",
    "words=sorted(words)\n",
    "print(words)\n",
    "\n",
    "op=\"-\".join(words)\n",
    "print(op)\n"
   ]
  },
  {
   "cell_type": "code",
   "execution_count": 11,
   "id": "969aa019",
   "metadata": {},
   "outputs": [
    {
     "name": "stdout",
     "output_type": "stream",
     "text": [
      "{'abc': 3, 'yahoo': 9, 'Rah': 10, 'Sam': 32, 'Kavya': 11}\n",
      "[('Kavya', 11), ('Rah', 10), ('Sam', 32), ('abc', 3), ('yahoo', 9)]\n",
      "{'Kavya': 11, 'Rah': 10, 'Sam': 32, 'abc': 3, 'yahoo': 9}\n",
      "[('abc', 3), ('Kavya', 11), ('Rah', 10), ('Sam', 32), ('yahoo', 9)]\n",
      "{'abc': 3, 'yahoo': 9, 'Rah': 10, 'Kavya': 11, 'Sam': 32}\n",
      "{'Sam': 32, 'Kavya': 11, 'Rah': 10, 'yahoo': 9, 'abc': 3}\n"
     ]
    }
   ],
   "source": [
    "#Write afunction valuesort to sort values of a dictionary based on the key\n",
    "dc={\"abc\":3,\"yahoo\":9,\"Rah\":10,\"Sam\":32,\"Kavya\":11}\n",
    "print(dc)\n",
    "print(sorted(dc.items()))\n",
    "print(dict(sorted(dc.items())))\n",
    "\n",
    "print(sorted(dc.items(),key=lambda item: item[0].lower()))\n",
    "\n",
    "print(dict(sorted(dc.items(),key=lambda item:item[1])))\n",
    "print(dict(sorted(dc.items(),key=lambda item:item[1], reverse=True)))"
   ]
  },
  {
   "cell_type": "markdown",
   "id": "a79f8fe0",
   "metadata": {},
   "source": [
    "## 2D List Comprehension:"
   ]
  },
  {
   "cell_type": "code",
   "execution_count": 13,
   "id": "1bc20ce7",
   "metadata": {},
   "outputs": [
    {
     "name": "stdout",
     "output_type": "stream",
     "text": [
      "[[0, 0, 0, 0], [0, 1, 2, 3], [0, 2, 4, 6]]\n"
     ]
    }
   ],
   "source": [
    "#Traditional Way:\n",
    "matrix = []\n",
    "for i in range(3):\n",
    "    row = []\n",
    "    for j in range(4):\n",
    "        row.append(i * j)\n",
    "    matrix.append(row)\n",
    "\n",
    "print(matrix)"
   ]
  },
  {
   "cell_type": "code",
   "execution_count": 14,
   "id": "08f75852",
   "metadata": {},
   "outputs": [
    {
     "name": "stdout",
     "output_type": "stream",
     "text": [
      "[0, 0, 0, 0, 0, 1, 2, 3, 0, 2, 4, 6]\n"
     ]
    }
   ],
   "source": [
    "matrix = [i*j for i in range(3) for j in range(4)]\n",
    "print(matrix)"
   ]
  },
  {
   "cell_type": "code",
   "execution_count": null,
   "id": "8f4e48a4",
   "metadata": {},
   "outputs": [],
   "source": [
    "#this also works:\n",
    "matrix = [[i*j for i in range(3)] for j in range(4)]\n",
    "#[[expression for inner in inner_loop] for outer in outer_loop]\n"
   ]
  },
  {
   "cell_type": "code",
   "execution_count": 8,
   "id": "a79dcfda",
   "metadata": {},
   "outputs": [
    {
     "ename": "TypeError",
     "evalue": "unhashable type: 'set'",
     "output_type": "error",
     "traceback": [
      "\u001b[31m---------------------------------------------------------------------------\u001b[39m",
      "\u001b[31mTypeError\u001b[39m                                 Traceback (most recent call last)",
      "\u001b[36mCell\u001b[39m\u001b[36m \u001b[39m\u001b[32mIn[8]\u001b[39m\u001b[32m, line 17\u001b[39m\n\u001b[32m     15\u001b[39m l1=\u001b[38;5;28mint\u001b[39m(\u001b[38;5;28minput\u001b[39m(\u001b[33m\"\u001b[39m\u001b[33mL1\u001b[39m\u001b[33m\"\u001b[39m))\n\u001b[32m     16\u001b[39m l2=\u001b[38;5;28mint\u001b[39m(\u001b[38;5;28minput\u001b[39m(\u001b[33m\"\u001b[39m\u001b[33mL2\u001b[39m\u001b[33m\"\u001b[39m))\n\u001b[32m---> \u001b[39m\u001b[32m17\u001b[39m \u001b[43mpair\u001b[49m\u001b[43m(\u001b[49m\u001b[43mmp\u001b[49m\u001b[43m,\u001b[49m\u001b[43ml1\u001b[49m\u001b[43m,\u001b[49m\u001b[43ml2\u001b[49m\u001b[43m)\u001b[49m\n",
      "\u001b[36mCell\u001b[39m\u001b[36m \u001b[39m\u001b[32mIn[8]\u001b[39m\u001b[32m, line 7\u001b[39m, in \u001b[36mpair\u001b[39m\u001b[34m(mp, l1, l2)\u001b[39m\n\u001b[32m      5\u001b[39m ans=\u001b[38;5;28mset\u001b[39m([])\n\u001b[32m      6\u001b[39m \u001b[38;5;28;01mfor\u001b[39;00m i \u001b[38;5;129;01min\u001b[39;00m finalList:\n\u001b[32m----> \u001b[39m\u001b[32m7\u001b[39m     \u001b[43mans\u001b[49m\u001b[43m.\u001b[49m\u001b[43madd\u001b[49m\u001b[43m(\u001b[49m\u001b[38;5;28;43mset\u001b[39;49m\u001b[43m(\u001b[49m\u001b[43mi\u001b[49m\u001b[43m)\u001b[49m\u001b[43m)\u001b[49m\n\u001b[32m      8\u001b[39m \u001b[38;5;28mprint\u001b[39m(ans)\n",
      "\u001b[31mTypeError\u001b[39m: unhashable type: 'set'"
     ]
    }
   ],
   "source": [
    "# q6\n",
    "\n",
    "def pair(mp,l1,l2):\n",
    "    finalList=[[i,j] for i in mp[l1] for j in mp[l2]]\n",
    "    ans=set([])\n",
    "    for i in finalList:\n",
    "        ans.add(set(i))\n",
    "    print(ans)\n",
    "\n",
    "if __name__==\"__main__\":\n",
    "    mp={\n",
    "        1:\"abc\",2:\"def\",3:\"ghi\",4:\"jkl\",5:\"mno\",6:\"pqrs\",7:\"tuv\",8:\"wxy\",9:\"z\"\n",
    "    }\n",
    "     \n",
    "    l1=int(input(\"L1\"))\n",
    "    l2=int(input(\"L2\"))\n",
    "    pair(mp,l1,l2)"
   ]
  }
 ],
 "metadata": {
  "kernelspec": {
   "display_name": "Python 3",
   "language": "python",
   "name": "python3"
  },
  "language_info": {
   "codemirror_mode": {
    "name": "ipython",
    "version": 3
   },
   "file_extension": ".py",
   "mimetype": "text/x-python",
   "name": "python",
   "nbconvert_exporter": "python",
   "pygments_lexer": "ipython3",
   "version": "3.12.1"
  }
 },
 "nbformat": 4,
 "nbformat_minor": 5
}
